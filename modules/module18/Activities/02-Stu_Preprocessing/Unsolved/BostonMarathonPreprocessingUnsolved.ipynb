{
 "cells": [
  {
   "cell_type": "code",
   "execution_count": 1,
   "metadata": {},
   "outputs": [],
   "source": [
    "import pandas as pd\n",
    "from sklearn.preprocessing import MinMaxScaler, LabelEncoder\n",
    "\n",
    "%matplotlib inline"
   ]
  },
  {
   "cell_type": "code",
   "execution_count": 2,
   "metadata": {},
   "outputs": [
    {
     "data": {
      "text/html": [
       "<div>\n",
       "<style scoped>\n",
       "    .dataframe tbody tr th:only-of-type {\n",
       "        vertical-align: middle;\n",
       "    }\n",
       "\n",
       "    .dataframe tbody tr th {\n",
       "        vertical-align: top;\n",
       "    }\n",
       "\n",
       "    .dataframe thead th {\n",
       "        text-align: right;\n",
       "    }\n",
       "</style>\n",
       "<table border=\"1\" class=\"dataframe\">\n",
       "  <thead>\n",
       "    <tr style=\"text-align: right;\">\n",
       "      <th></th>\n",
       "      <th>Bib</th>\n",
       "      <th>Name</th>\n",
       "      <th>Age</th>\n",
       "      <th>M/F</th>\n",
       "      <th>City</th>\n",
       "      <th>State</th>\n",
       "      <th>Country</th>\n",
       "      <th>Citizen</th>\n",
       "      <th>Unnamed: 8</th>\n",
       "      <th>5K</th>\n",
       "      <th>...</th>\n",
       "      <th>25K</th>\n",
       "      <th>30K</th>\n",
       "      <th>35K</th>\n",
       "      <th>40K</th>\n",
       "      <th>Pace</th>\n",
       "      <th>Proj Time</th>\n",
       "      <th>Official Time</th>\n",
       "      <th>Overall</th>\n",
       "      <th>Gender</th>\n",
       "      <th>Division</th>\n",
       "    </tr>\n",
       "  </thead>\n",
       "  <tbody>\n",
       "    <tr>\n",
       "      <th>0</th>\n",
       "      <td>2</td>\n",
       "      <td>Cherono, Lawrence</td>\n",
       "      <td>30</td>\n",
       "      <td>M</td>\n",
       "      <td>Eldoret</td>\n",
       "      <td>NaN</td>\n",
       "      <td>KEN</td>\n",
       "      <td>NaN</td>\n",
       "      <td>NaN</td>\n",
       "      <td>0:15:11</td>\n",
       "      <td>...</td>\n",
       "      <td>1:16:23</td>\n",
       "      <td>1:32:01</td>\n",
       "      <td>1:47:16</td>\n",
       "      <td>2:01:45</td>\n",
       "      <td>0:04:53</td>\n",
       "      <td>NaN</td>\n",
       "      <td>2:07:57</td>\n",
       "      <td>1</td>\n",
       "      <td>1</td>\n",
       "      <td>1</td>\n",
       "    </tr>\n",
       "    <tr>\n",
       "      <th>1</th>\n",
       "      <td>6</td>\n",
       "      <td>Desisa, Lelisa</td>\n",
       "      <td>29</td>\n",
       "      <td>M</td>\n",
       "      <td>Ambo</td>\n",
       "      <td>NaN</td>\n",
       "      <td>ETH</td>\n",
       "      <td>NaN</td>\n",
       "      <td>NaN</td>\n",
       "      <td>0:15:10</td>\n",
       "      <td>...</td>\n",
       "      <td>1:16:24</td>\n",
       "      <td>1:32:01</td>\n",
       "      <td>1:47:16</td>\n",
       "      <td>2:01:46</td>\n",
       "      <td>0:04:53</td>\n",
       "      <td>NaN</td>\n",
       "      <td>2:07:59</td>\n",
       "      <td>2</td>\n",
       "      <td>2</td>\n",
       "      <td>2</td>\n",
       "    </tr>\n",
       "    <tr>\n",
       "      <th>2</th>\n",
       "      <td>7</td>\n",
       "      <td>Kipkemoi, Kenneth</td>\n",
       "      <td>34</td>\n",
       "      <td>M</td>\n",
       "      <td>Eldoret</td>\n",
       "      <td>NaN</td>\n",
       "      <td>KEN</td>\n",
       "      <td>NaN</td>\n",
       "      <td>NaN</td>\n",
       "      <td>0:15:14</td>\n",
       "      <td>...</td>\n",
       "      <td>1:16:24</td>\n",
       "      <td>1:32:01</td>\n",
       "      <td>1:47:16</td>\n",
       "      <td>2:01:45</td>\n",
       "      <td>0:04:54</td>\n",
       "      <td>NaN</td>\n",
       "      <td>2:08:07</td>\n",
       "      <td>3</td>\n",
       "      <td>3</td>\n",
       "      <td>3</td>\n",
       "    </tr>\n",
       "    <tr>\n",
       "      <th>3</th>\n",
       "      <td>8</td>\n",
       "      <td>Kandie, Felix</td>\n",
       "      <td>32</td>\n",
       "      <td>M</td>\n",
       "      <td>Iten</td>\n",
       "      <td>NaN</td>\n",
       "      <td>KEN</td>\n",
       "      <td>NaN</td>\n",
       "      <td>NaN</td>\n",
       "      <td>0:15:14</td>\n",
       "      <td>...</td>\n",
       "      <td>1:16:24</td>\n",
       "      <td>1:32:01</td>\n",
       "      <td>1:47:16</td>\n",
       "      <td>2:02:08</td>\n",
       "      <td>0:04:55</td>\n",
       "      <td>NaN</td>\n",
       "      <td>2:08:54</td>\n",
       "      <td>4</td>\n",
       "      <td>4</td>\n",
       "      <td>4</td>\n",
       "    </tr>\n",
       "    <tr>\n",
       "      <th>4</th>\n",
       "      <td>11</td>\n",
       "      <td>Kirui, Geoffrey</td>\n",
       "      <td>26</td>\n",
       "      <td>M</td>\n",
       "      <td>Keringet</td>\n",
       "      <td>NaN</td>\n",
       "      <td>KEN</td>\n",
       "      <td>NaN</td>\n",
       "      <td>NaN</td>\n",
       "      <td>0:15:12</td>\n",
       "      <td>...</td>\n",
       "      <td>1:16:23</td>\n",
       "      <td>1:32:01</td>\n",
       "      <td>1:47:16</td>\n",
       "      <td>2:01:57</td>\n",
       "      <td>0:04:56</td>\n",
       "      <td>NaN</td>\n",
       "      <td>2:08:55</td>\n",
       "      <td>5</td>\n",
       "      <td>5</td>\n",
       "      <td>5</td>\n",
       "    </tr>\n",
       "  </tbody>\n",
       "</table>\n",
       "<p>5 rows × 24 columns</p>\n",
       "</div>"
      ],
      "text/plain": [
       "  Bib               Name  Age M/F      City State Country Citizen Unnamed: 8  \\\n",
       "0   2  Cherono, Lawrence   30   M   Eldoret   NaN     KEN     NaN        NaN   \n",
       "1   6     Desisa, Lelisa   29   M      Ambo   NaN     ETH     NaN        NaN   \n",
       "2   7  Kipkemoi, Kenneth   34   M   Eldoret   NaN     KEN     NaN        NaN   \n",
       "3   8      Kandie, Felix   32   M      Iten   NaN     KEN     NaN        NaN   \n",
       "4  11    Kirui, Geoffrey   26   M  Keringet   NaN     KEN     NaN        NaN   \n",
       "\n",
       "        5K  ...      25K      30K      35K      40K     Pace Proj Time  \\\n",
       "0  0:15:11  ...  1:16:23  1:32:01  1:47:16  2:01:45  0:04:53       NaN   \n",
       "1  0:15:10  ...  1:16:24  1:32:01  1:47:16  2:01:46  0:04:53       NaN   \n",
       "2  0:15:14  ...  1:16:24  1:32:01  1:47:16  2:01:45  0:04:54       NaN   \n",
       "3  0:15:14  ...  1:16:24  1:32:01  1:47:16  2:02:08  0:04:55       NaN   \n",
       "4  0:15:12  ...  1:16:23  1:32:01  1:47:16  2:01:57  0:04:56       NaN   \n",
       "\n",
       "  Official Time Overall Gender Division  \n",
       "0       2:07:57       1      1        1  \n",
       "1       2:07:59       2      2        2  \n",
       "2       2:08:07       3      3        3  \n",
       "3       2:08:54       4      4        4  \n",
       "4       2:08:55       5      5        5  \n",
       "\n",
       "[5 rows x 24 columns]"
      ]
     },
     "execution_count": 2,
     "metadata": {},
     "output_type": "execute_result"
    }
   ],
   "source": [
    "df = pd.read_csv('../Resources/marathon_results_2019.csv')\n",
    "df.head()"
   ]
  },
  {
   "cell_type": "code",
   "execution_count": 5,
   "metadata": {},
   "outputs": [
    {
     "data": {
      "text/plain": [
       "Index(['Bib', 'Name', 'Age', 'M/F', 'City', 'State', 'Country', 'Citizen',\n",
       "       'Unnamed: 8', '5K', '10K', '15K', '20K', 'Half', '25K', '30K', '35K',\n",
       "       '40K', 'Pace', 'Proj Time', 'Official Time', 'Overall', 'Gender',\n",
       "       'Division'],\n",
       "      dtype='object')"
      ]
     },
     "execution_count": 5,
     "metadata": {},
     "output_type": "execute_result"
    }
   ],
   "source": [
    "df.columns"
   ]
  },
  {
   "cell_type": "code",
   "execution_count": null,
   "metadata": {},
   "outputs": [],
   "source": [
    "# Subset the dataframe to only the columns \"Age\", \"M/F\", split times (i.e. \"5K, 10K\", etc.), \"Pace\", and \"Official Time\". \n",
    "### YOUR CODE HERE ###\n",
    "sub_df = df.[['Age'], ['M/F'], [''] ]"
   ]
  },
  {
   "cell_type": "code",
   "execution_count": null,
   "metadata": {},
   "outputs": [],
   "source": [
    "# Convert the split times, \"Pace\", and \"Official Time\" to timedeltas using apply() and pandas.to_timedelta()\n",
    "### YOUR CODE HERE ###"
   ]
  },
  {
   "cell_type": "code",
   "execution_count": null,
   "metadata": {},
   "outputs": [],
   "source": [
    "# Convert timedeltas to seconds by applying the lambda function lambda x: x.dt.total_seconds()\n",
    "### YOUR CODE HERE ###"
   ]
  },
  {
   "cell_type": "code",
   "execution_count": null,
   "metadata": {},
   "outputs": [],
   "source": [
    "# Subset df to only rows where the split values are non-zero\n",
    "### YOUR CODE HERE ###"
   ]
  },
  {
   "cell_type": "code",
   "execution_count": null,
   "metadata": {},
   "outputs": [],
   "source": [
    "# Use LabelEncoder to convert 'M/F' into integer labels\n",
    "### YOUR CODE HERE ###"
   ]
  },
  {
   "cell_type": "code",
   "execution_count": null,
   "metadata": {
    "collapsed": true,
    "jupyter": {
     "outputs_hidden": true
    }
   },
   "outputs": [],
   "source": [
    "# Convert 'Age' to a numeric value\n",
    "### YOUR CODE HERE ###"
   ]
  },
  {
   "cell_type": "code",
   "execution_count": null,
   "metadata": {},
   "outputs": [],
   "source": [
    "# 'Pace' should be perfectly correlated with 'Official Time', so we'll remove it from our X data (but keep it for analysis)\n",
    "# Plot a scatter plot of 'Pace' against 'Official Time' to make sure\n",
    "### YOUR CODE HERE ###"
   ]
  },
  {
   "cell_type": "code",
   "execution_count": null,
   "metadata": {
    "collapsed": true,
    "jupyter": {
     "outputs_hidden": true
    }
   },
   "outputs": [],
   "source": [
    "# Create a training set 'X' with every column except 'Pace'\n",
    "### YOUR CODE HERE ###"
   ]
  },
  {
   "cell_type": "code",
   "execution_count": null,
   "metadata": {},
   "outputs": [],
   "source": [
    "# Scale the dataset using MinMaxScaler()\n",
    "### YOUR CODE HERE ###"
   ]
  },
  {
   "cell_type": "code",
   "execution_count": null,
   "metadata": {
    "collapsed": true,
    "jupyter": {
     "outputs_hidden": true
    }
   },
   "outputs": [],
   "source": []
  }
 ],
 "metadata": {
  "kernelspec": {
   "display_name": "Python 3",
   "language": "python",
   "name": "python3"
  },
  "language_info": {
   "codemirror_mode": {
    "name": "ipython",
    "version": 3
   },
   "file_extension": ".py",
   "mimetype": "text/x-python",
   "name": "python",
   "nbconvert_exporter": "python",
   "pygments_lexer": "ipython3",
   "version": "3.7.7"
  }
 },
 "nbformat": 4,
 "nbformat_minor": 4
}
