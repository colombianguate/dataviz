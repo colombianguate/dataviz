{
 "cells": [
  {
   "cell_type": "code",
   "execution_count": 1,
   "metadata": {},
   "outputs": [],
   "source": [
    "from sklearn.datasets import make_blobs\n",
    "import matplotlib.pyplot as plt"
   ]
  },
  {
   "cell_type": "code",
   "execution_count": 2,
   "metadata": {},
   "outputs": [],
   "source": [
    "# make synthetic data\n",
    "X, _ = make_blobs(n_samples=50, centers=3, random_state=3, cluster_std=1)"
   ]
  },
  {
   "cell_type": "code",
   "execution_count": 4,
   "metadata": {},
   "outputs": [],
   "source": [
    "x_axis = X[:, 0]\n",
    "y_axis = X[:, 1]"
   ]
  },
  {
   "cell_type": "code",
   "execution_count": 19,
   "metadata": {},
   "outputs": [
    {
     "data": {
      "text/plain": [
       "array([[-3.33607181e+00, -1.64433742e+00],\n",
       "       [ 9.21660298e-02,  3.13908069e+00],\n",
       "       [ 6.48827007e+00,  8.16442497e+00],\n",
       "       [-2.97906702e-01,  5.04757883e+00],\n",
       "       [-4.77855486e+00, -3.72042276e-01],\n",
       "       [ 8.73322481e+00,  6.63232515e+00],\n",
       "       [ 2.12191957e-01,  1.74387328e+00],\n",
       "       [-4.53817598e+00, -1.52658893e+00],\n",
       "       [-5.80519067e+00,  8.63227556e-01],\n",
       "       [-4.85663273e+00,  3.67168969e-01],\n",
       "       [ 1.06599169e+00,  3.75827904e+00],\n",
       "       [-6.43016299e+00, -5.12097609e-02],\n",
       "       [ 2.50210641e+00,  4.39967272e+00],\n",
       "       [-3.05792726e+00,  8.46378712e-02],\n",
       "       [ 7.28423067e+00,  7.81640744e+00],\n",
       "       [-5.20683610e+00,  1.11589055e+00],\n",
       "       [ 7.77919815e+00,  8.49034730e+00],\n",
       "       [ 6.89894291e+00,  8.30315701e+00],\n",
       "       [ 8.00400230e+00,  9.09374406e+00],\n",
       "       [-2.28165277e-01,  3.53653954e+00],\n",
       "       [-4.37931990e+00,  1.99119714e+00],\n",
       "       [ 9.72139883e-01,  3.68573842e+00],\n",
       "       [ 9.33216570e-01,  3.53595578e+00],\n",
       "       [ 1.99832549e+00,  3.06188882e+00],\n",
       "       [ 1.76101432e+00,  6.13906724e+00],\n",
       "       [-4.02895952e+00, -8.47643170e-01],\n",
       "       [ 7.38569849e-01,  3.80819747e+00],\n",
       "       [ 6.46317558e+00,  9.31752469e+00],\n",
       "       [ 1.89727609e+00,  5.87252952e+00],\n",
       "       [-4.78479033e+00, -1.69791994e+00],\n",
       "       [-3.74395861e+00,  2.15553056e+00],\n",
       "       [-3.07371772e+00,  1.33594276e+00],\n",
       "       [ 7.70443224e+00,  9.69548908e+00],\n",
       "       [ 8.47301617e+00,  7.08794951e+00],\n",
       "       [-2.69436209e+00, -9.01748580e-01],\n",
       "       [-1.69088476e-01,  3.95730655e+00],\n",
       "       [ 7.83483462e+00,  7.03720436e+00],\n",
       "       [ 8.53801069e+00,  7.07042461e+00],\n",
       "       [ 8.34272743e+00,  8.60207818e+00],\n",
       "       [ 1.64120302e+00,  4.00244309e+00],\n",
       "       [-7.82708843e-03,  3.44996325e+00],\n",
       "       [ 7.26786035e+00,  7.40944441e+00],\n",
       "       [ 2.47121701e-01,  3.93292573e+00],\n",
       "       [-3.13375771e+00,  1.55028992e+00],\n",
       "       [-3.16872178e+00,  1.06934994e+00],\n",
       "       [ 4.70598104e-01,  2.61647914e+00],\n",
       "       [-5.05578752e+00,  2.46265919e-01],\n",
       "       [ 4.94320134e+00,  6.95402128e+00],\n",
       "       [ 8.50210237e+00,  8.17494849e+00],\n",
       "       [ 7.55873301e+00,  1.00840111e+01]])"
      ]
     },
     "execution_count": 19,
     "metadata": {},
     "output_type": "execute_result"
    }
   ],
   "source": [
    "X"
   ]
  },
  {
   "cell_type": "code",
   "execution_count": 18,
   "metadata": {},
   "outputs": [
    {
     "data": {
      "image/png": "[encoded data removed]",
      "text/plain": [
       "<Figure size 432x288 with 1 Axes>"
      ]
     },
     "metadata": {
      "needs_background": "light"
     },
     "output_type": "display_data"
    }
   ],
   "source": [
    "X, _ = make_blobs(n_samples=50, centers=3, random_state=3, cluster_std=1)\n",
    "x_axis = X[:, 0]\n",
    "y_axis = X[:, 1]\n",
    "plt.scatter(x_axis, y_axis)\n",
    "plt.show()"
   ]
  },
  {
   "cell_type": "code",
   "execution_count": null,
   "metadata": {},
   "outputs": [],
   "source": []
  },
  {
   "cell_type": "code",
   "execution_count": null,
   "metadata": {},
   "outputs": [],
   "source": []
  },
  {
   "cell_type": "code",
   "execution_count": null,
   "metadata": {},
   "outputs": [],
   "source": []
  }
 ],
 "metadata": {
  "kernelspec": {
   "display_name": "Python [conda env:PythonData] *",
   "language": "python",
   "name": "conda-env-PythonData-py"
  },
  "language_info": {
   "codemirror_mode": {
    "name": "ipython",
    "version": 3
   },
   "file_extension": ".py",
   "mimetype": "text/x-python",
   "name": "python",
   "nbconvert_exporter": "python",
   "pygments_lexer": "ipython3",
   "version": "3.7.7"
  }
 },
 "nbformat": 4,
 "nbformat_minor": 4
}
